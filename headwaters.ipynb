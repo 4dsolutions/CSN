{
 "cells": [
  {
   "cell_type": "markdown",
   "metadata": {},
   "source": [
    "# Workflow\n",
    "\n",
    "The Jupyter Notebook environment, by which I\n",
    "mean to include JupyterLab, has a top-to-bottom flow feeling.  Don't fight that.  Let the logic follow a chronology, from top to bottom.  \n",
    "\n",
    "If you want to tell the story quite differently, from another angle, elsewhere, do that.  \n",
    "\n",
    "Use the same data sources sometimes (read-only?).\n",
    "\n",
    "Take a chapters-oriented approach.  Write a novel (so-to-speak).\n",
    "\n",
    "<a data-flickr-embed=\"true\"  href=\"https://www.flickr.com/photos/kirbyurner/6578251943/in/photolist-WyUd7h-UTKEEb-b2ig7X-8awzZ7-82F73w-7SDcAe\" title=\"Mt Tabor Reservoir\"><img src=\"https://live.staticflickr.com/7144/6578251943_fc68eeb88e.jpg\" width=\"500\" height=\"375\" alt=\"Mt Tabor Reservoir\"></a><script async src=\"//embedr.flickr.com/assets/client-code.js\" charset=\"utf-8\"></script>\n",
    "\n",
    "That being said, it's fine to define some machinery (e.g. Python functions) up front, at the top, and then demonstrate behavior as the story unfolds."
   ]
  },
  {
   "cell_type": "code",
   "execution_count": 1,
   "metadata": {},
   "outputs": [],
   "source": [
    "import pandas as pd"
   ]
  },
  {
   "cell_type": "markdown",
   "metadata": {},
   "source": [
    "Think of a board game.  This isn't Monopoly exactly, as we're looking at giving money to charity through a \"switchboard\" of gamers doing homework.\n",
    "\n",
    "<a data-flickr-embed=\"true\"  href=\"https://www.flickr.com/photos/kirbyurner/48140645242/in/dateposted-public/\" title=\"P1080964\"><img src=\"https://live.staticflickr.com/65535/48140645242_b0472ab5f5.jpg\" width=\"500\" height=\"500\" alt=\"P1080964\"></a><script async src=\"//embedr.flickr.com/assets/client-code.js\" charset=\"utf-8\"></script>"
   ]
  },
  {
   "cell_type": "code",
   "execution_count": 2,
   "metadata": {},
   "outputs": [],
   "source": [
    "company_names = ['Tech Giant', 'Fast Food Chain', 'Hotel Chain']\n",
    "profits = [100_000.00, 700_000_000.00, 1_000_000.00]"
   ]
  },
  {
   "cell_type": "code",
   "execution_count": 3,
   "metadata": {},
   "outputs": [],
   "source": [
    "profit_centers = pd.DataFrame({\n",
    "        \"Companies\": pd.Series(company_names,\n",
    "        dtype=pd.np.unicode),\n",
    "        \"Profits\": pd.Series(profits,\n",
    "        dtype=pd.np.float)})"
   ]
  },
  {
   "cell_type": "code",
   "execution_count": 4,
   "metadata": {},
   "outputs": [
    {
     "data": {
      "text/html": [
       "<div>\n",
       "<style scoped>\n",
       "    .dataframe tbody tr th:only-of-type {\n",
       "        vertical-align: middle;\n",
       "    }\n",
       "\n",
       "    .dataframe tbody tr th {\n",
       "        vertical-align: top;\n",
       "    }\n",
       "\n",
       "    .dataframe thead th {\n",
       "        text-align: right;\n",
       "    }\n",
       "</style>\n",
       "<table border=\"1\" class=\"dataframe\">\n",
       "  <thead>\n",
       "    <tr style=\"text-align: right;\">\n",
       "      <th></th>\n",
       "      <th>Companies</th>\n",
       "      <th>Profits</th>\n",
       "    </tr>\n",
       "  </thead>\n",
       "  <tbody>\n",
       "    <tr>\n",
       "      <th>0</th>\n",
       "      <td>Tech Giant</td>\n",
       "      <td>100000.0</td>\n",
       "    </tr>\n",
       "    <tr>\n",
       "      <th>1</th>\n",
       "      <td>Fast Food Chain</td>\n",
       "      <td>700000000.0</td>\n",
       "    </tr>\n",
       "    <tr>\n",
       "      <th>2</th>\n",
       "      <td>Hotel Chain</td>\n",
       "      <td>1000000.0</td>\n",
       "    </tr>\n",
       "  </tbody>\n",
       "</table>\n",
       "</div>"
      ],
      "text/plain": [
       "         Companies      Profits\n",
       "0       Tech Giant     100000.0\n",
       "1  Fast Food Chain  700000000.0\n",
       "2      Hotel Chain    1000000.0"
      ]
     },
     "execution_count": 4,
     "metadata": {},
     "output_type": "execute_result"
    }
   ],
   "source": [
    "profit_centers"
   ]
  },
  {
   "cell_type": "code",
   "execution_count": 5,
   "metadata": {},
   "outputs": [],
   "source": [
    "profit_centers.index = ['DZX', 'FFC', 'HHC']"
   ]
  },
  {
   "cell_type": "code",
   "execution_count": 6,
   "metadata": {},
   "outputs": [
    {
     "data": {
      "text/html": [
       "<div>\n",
       "<style scoped>\n",
       "    .dataframe tbody tr th:only-of-type {\n",
       "        vertical-align: middle;\n",
       "    }\n",
       "\n",
       "    .dataframe tbody tr th {\n",
       "        vertical-align: top;\n",
       "    }\n",
       "\n",
       "    .dataframe thead th {\n",
       "        text-align: right;\n",
       "    }\n",
       "</style>\n",
       "<table border=\"1\" class=\"dataframe\">\n",
       "  <thead>\n",
       "    <tr style=\"text-align: right;\">\n",
       "      <th></th>\n",
       "      <th>Companies</th>\n",
       "      <th>Profits</th>\n",
       "    </tr>\n",
       "  </thead>\n",
       "  <tbody>\n",
       "    <tr>\n",
       "      <th>DZX</th>\n",
       "      <td>Tech Giant</td>\n",
       "      <td>100000.0</td>\n",
       "    </tr>\n",
       "    <tr>\n",
       "      <th>FFC</th>\n",
       "      <td>Fast Food Chain</td>\n",
       "      <td>700000000.0</td>\n",
       "    </tr>\n",
       "    <tr>\n",
       "      <th>HHC</th>\n",
       "      <td>Hotel Chain</td>\n",
       "      <td>1000000.0</td>\n",
       "    </tr>\n",
       "  </tbody>\n",
       "</table>\n",
       "</div>"
      ],
      "text/plain": [
       "           Companies      Profits\n",
       "DZX       Tech Giant     100000.0\n",
       "FFC  Fast Food Chain  700000000.0\n",
       "HHC      Hotel Chain    1000000.0"
      ]
     },
     "execution_count": 6,
     "metadata": {},
     "output_type": "execute_result"
    }
   ],
   "source": [
    "profit_centers"
   ]
  },
  {
   "cell_type": "markdown",
   "metadata": {},
   "source": [
    "### What have we accomplished?\n",
    "\n",
    "We have started creating what could become a much larger database over time, of companies with profits.  The realism is already lacking in the a profit comes within a time period, and we have yet to register this fact."
   ]
  },
  {
   "cell_type": "code",
   "execution_count": 7,
   "metadata": {},
   "outputs": [
    {
     "data": {
      "text/html": [
       "<div>\n",
       "<style scoped>\n",
       "    .dataframe tbody tr th:only-of-type {\n",
       "        vertical-align: middle;\n",
       "    }\n",
       "\n",
       "    .dataframe tbody tr th {\n",
       "        vertical-align: top;\n",
       "    }\n",
       "\n",
       "    .dataframe thead th {\n",
       "        text-align: right;\n",
       "    }\n",
       "</style>\n",
       "<table border=\"1\" class=\"dataframe\">\n",
       "  <thead>\n",
       "    <tr style=\"text-align: right;\">\n",
       "      <th></th>\n",
       "      <th>Companies</th>\n",
       "      <th>Profits</th>\n",
       "    </tr>\n",
       "  </thead>\n",
       "  <tbody>\n",
       "    <tr>\n",
       "      <th>DZX</th>\n",
       "      <td>Tech Giant</td>\n",
       "      <td>100000.0</td>\n",
       "    </tr>\n",
       "    <tr>\n",
       "      <th>FFC</th>\n",
       "      <td>Fast Food Chain</td>\n",
       "      <td>700000000.0</td>\n",
       "    </tr>\n",
       "    <tr>\n",
       "      <th>HHC</th>\n",
       "      <td>Hotel Chain</td>\n",
       "      <td>1000000.0</td>\n",
       "    </tr>\n",
       "  </tbody>\n",
       "</table>\n",
       "</div>"
      ],
      "text/plain": [
       "           Companies      Profits\n",
       "DZX       Tech Giant     100000.0\n",
       "FFC  Fast Food Chain  700000000.0\n",
       "HHC      Hotel Chain    1000000.0"
      ]
     },
     "execution_count": 7,
     "metadata": {},
     "output_type": "execute_result"
    }
   ],
   "source": [
    "profit_centers"
   ]
  },
  {
   "cell_type": "code",
   "execution_count": null,
   "metadata": {},
   "outputs": [],
   "source": [
    "more_realistic = ([\n",
    "    ('DZX', '2019', 100000.0),\n",
    "    ('FFC', '2019', 70000000.0),\n",
    "    ('HHC', '2019', 1000000.0),\n",
    "    ('FFC', '2018', 70000000.0),\n",
    "    ('DZX', '2018', 100000.0),\n",
    "    ('HHC', '2018', 1000000.0),\n",
    "    ('FFC', '2017', 10000.0)\n",
    "])"
   ]
  },
  {
   "cell_type": "code",
   "execution_count": 8,
   "metadata": {},
   "outputs": [],
   "source": [
    "from collections import namedtuple\n",
    "\n",
    "profit_record = namedtuple(\"PR\", \"ccode year curr\")"
   ]
  },
  {
   "cell_type": "code",
   "execution_count": 9,
   "metadata": {},
   "outputs": [],
   "source": [
    "def make_reports(nm_tuple, target):\n",
    "    # primitive native Python object\n",
    "    annual_reports = [ ] # empty list\n",
    "    for pr_rec in target:\n",
    "        # append namedtuple type objects to a list\n",
    "        annual_reports.append(\n",
    "            nm_tuple(*pr_rec))\n",
    "\n",
    "    return annual_reports"
   ]
  },
  {
   "cell_type": "code",
   "execution_count": 10,
   "metadata": {},
   "outputs": [
    {
     "data": {
      "text/plain": [
       "[PR(ccode='DZX', year='2019', curr=100000.0),\n",
       " PR(ccode='FFC', year='2019', curr=70000000.0),\n",
       " PR(ccode='HHC', year='2019', curr=1000000.0),\n",
       " PR(ccode='FFC', year='2018', curr=70000000.0),\n",
       " PR(ccode='DZX', year='2018', curr=100000.0),\n",
       " PR(ccode='HHC', year='2018', curr=1000000.0),\n",
       " PR(ccode='FFC', year='2017', curr=10000.0)]"
      ]
     },
     "execution_count": 10,
     "metadata": {},
     "output_type": "execute_result"
    }
   ],
   "source": [
    "# send in template + data\n",
    "annual_reports = make_reports(profit_record, more_realistic) # noise yet to be added\n",
    "annual_reports"
   ]
  },
  {
   "cell_type": "code",
   "execution_count": 11,
   "metadata": {},
   "outputs": [
    {
     "name": "stdout",
     "output_type": "stream",
     "text": [
      "DZX 2019       100000.00\n",
      "FFC 2019     70000000.00\n",
      "HHC 2019      1000000.00\n",
      "FFC 2018     70000000.00\n",
      "DZX 2018       100000.00\n",
      "HHC 2018      1000000.00\n",
      "FFC 2017        10000.00\n"
     ]
    }
   ],
   "source": [
    "template = \"{obj.ccode} {obj.year} {obj.curr:>15.2f}\"\n",
    "for pr_rec in annual_reports:\n",
    "    print(template.format(obj = pr_rec))"
   ]
  },
  {
   "cell_type": "markdown",
   "metadata": {},
   "source": [
    "This looks like some intermediate table in a relational database, where we store lots of data in (ccode year curr) format.\n",
    "\n",
    "In practice, we're not necessarily accessing any API to get these numbers.  Some end user has their own sources and imports them.\n",
    "\n",
    "We do want to have more randomized numbers though, so lets toggle floats up or down by x percent, where x is between 0 and 5 inclusive."
   ]
  },
  {
   "cell_type": "code",
   "execution_count": 12,
   "metadata": {},
   "outputs": [],
   "source": [
    "from random import randint # plain vanilla Python\n",
    "\n",
    "def noise(float_in):\n",
    "    percent = randint(0, 6)/100 # includes 5\n",
    "    if randint(0, 1): # flip a coin\n",
    "        sign = -1\n",
    "    else:\n",
    "        sign = 1\n",
    "    return float_in + sign * percent * float_in"
   ]
  },
  {
   "cell_type": "code",
   "execution_count": 13,
   "metadata": {},
   "outputs": [
    {
     "data": {
      "text/plain": [
       "[990.0, 1060.0, 1060.0, 1030.0, 1000.0, 1000.0, 1000.0, 1010.0, 960.0, 1050.0]"
      ]
     },
     "execution_count": 13,
     "metadata": {},
     "output_type": "execute_result"
    }
   ],
   "source": [
    "list(map(noise, [1000]*10))"
   ]
  },
  {
   "cell_type": "code",
   "execution_count": 14,
   "metadata": {},
   "outputs": [
    {
     "data": {
      "text/plain": [
       "[('DZX', '2019', 100000.0),\n",
       " ('FFC', '2019', 71400000.0),\n",
       " ('HHC', '2019', 1030000.0),\n",
       " ('FFC', '2018', 67200000.0),\n",
       " ('DZX', '2018', 102000.0),\n",
       " ('HHC', '2018', 990000.0),\n",
       " ('FFC', '2017', 9900.0)]"
      ]
     },
     "execution_count": 14,
     "metadata": {},
     "output_type": "execute_result"
    }
   ],
   "source": [
    "more_realistic = ([\n",
    "    ('DZX', '2019', noise(100000.0)),\n",
    "    ('FFC', '2019', noise(70000000.0)),\n",
    "    ('HHC', '2019', noise(1000000.0)),\n",
    "    ('FFC', '2018', noise(70000000.0)),\n",
    "    ('DZX', '2018', noise(100000.0)),\n",
    "    ('HHC', '2018', noise(1000000.0)),\n",
    "    ('FFC', '2017', noise(10000.0))\n",
    "])\n",
    "more_realistic"
   ]
  },
  {
   "cell_type": "code",
   "execution_count": 15,
   "metadata": {},
   "outputs": [
    {
     "data": {
      "text/plain": [
       "[PR(ccode='DZX', year='2019', curr=100000.0),\n",
       " PR(ccode='FFC', year='2019', curr=71400000.0),\n",
       " PR(ccode='HHC', year='2019', curr=1030000.0),\n",
       " PR(ccode='FFC', year='2018', curr=67200000.0),\n",
       " PR(ccode='DZX', year='2018', curr=102000.0),\n",
       " PR(ccode='HHC', year='2018', curr=990000.0),\n",
       " PR(ccode='FFC', year='2017', curr=9900.0)]"
      ]
     },
     "execution_count": 15,
     "metadata": {},
     "output_type": "execute_result"
    }
   ],
   "source": [
    "reports = make_reports(profit_record, more_realistic)\n",
    "reports"
   ]
  },
  {
   "cell_type": "markdown",
   "metadata": {},
   "source": [
    "Lets remember our old friend ```usercrud.py``` and adapt some of those tools to our benefit."
   ]
  },
  {
   "cell_type": "code",
   "execution_count": 16,
   "metadata": {},
   "outputs": [],
   "source": [
    "! cp ../Session08/usercrud.py .\n",
    "! cp ../Session08/users.db .\n",
    "! cp ../Session08/context1.py ."
   ]
  },
  {
   "cell_type": "code",
   "execution_count": 17,
   "metadata": {},
   "outputs": [],
   "source": [
    "# %load usercrud.py\n",
    "#!/usr/bin/env python3"
   ]
  },
  {
   "cell_type": "markdown",
   "metadata": {},
   "source": [
    "```create_table``` looks promising, we'll modify that, create a table in a new database\n",
    "(or in an old one), and insert our profit report records.  We're talking directly to SQL in core standard library Python.\n",
    "\n",
    "\n",
    "https://www.sqlite.org/images/syntax/select-stmt.gif"
   ]
  },
  {
   "cell_type": "code",
   "execution_count": 18,
   "metadata": {},
   "outputs": [
    {
     "data": {
      "text/html": [
       "<img src=\"https://www.sqlite.org/images/syntax/select-stmt.gif\" width=\"300\" />\n"
      ],
      "text/plain": [
       "<IPython.core.display.HTML object>"
      ]
     },
     "metadata": {},
     "output_type": "display_data"
    }
   ],
   "source": [
    "%%HTML \n",
    "<img src=\"https://www.sqlite.org/images/syntax/select-stmt.gif\" width=\"300\" />"
   ]
  },
  {
   "cell_type": "code",
   "execution_count": 19,
   "metadata": {},
   "outputs": [],
   "source": [
    "from context1 import DB\n",
    "\n",
    "def check_tables(db_name):\n",
    "    global testme\n",
    "    with DB(\"coffeeshops.db\") as db:\n",
    "        db.curs.execute(\"SELECT * FROM sqlite_master where type='table'\")\n",
    "        results = db.curs.fetchall()\n",
    "        if results and db_name in results[0]:\n",
    "            return True\n",
    "        else:\n",
    "            print(\"No {} table\".format(db_name))\n",
    "            return False\n",
    "    \n",
    "def create_table():\n",
    "    if check_tables(\"annual_profits\"):\n",
    "        return \"Table already exists\"\n",
    "    else:\n",
    "        with DB(\"coffeeshops.db\") as db:\n",
    "            db.curs.execute(\"CREATE TABLE \"\n",
    "                            \"annual_profits \"\n",
    "                            \"(ccode  text, \"\n",
    "                            \" year   text, \"\n",
    "                            \" amount float)\") \n",
    "        print(\"Table created\")"
   ]
  },
  {
   "cell_type": "code",
   "execution_count": 20,
   "metadata": {},
   "outputs": [
    {
     "data": {
      "text/plain": [
       "'Table already exists'"
      ]
     },
     "execution_count": 20,
     "metadata": {},
     "output_type": "execute_result"
    }
   ],
   "source": [
    "create_table()"
   ]
  },
  {
   "cell_type": "markdown",
   "metadata": {},
   "source": [
    "Want to start over at this point?  Start with no database at all.  Remember ```context1``` from last time?"
   ]
  },
  {
   "cell_type": "code",
   "execution_count": 21,
   "metadata": {},
   "outputs": [],
   "source": [
    "# run if you want to remind yourself of the code\n",
    "# %load context1.py"
   ]
  },
  {
   "cell_type": "code",
   "execution_count": 22,
   "metadata": {},
   "outputs": [],
   "source": [
    "! rm coffeeshops.db"
   ]
  },
  {
   "cell_type": "code",
   "execution_count": 23,
   "metadata": {},
   "outputs": [
    {
     "name": "stdout",
     "output_type": "stream",
     "text": [
      "No annual_profits table\n",
      "Table created\n"
     ]
    }
   ],
   "source": [
    "create_table()"
   ]
  },
  {
   "cell_type": "code",
   "execution_count": 24,
   "metadata": {},
   "outputs": [
    {
     "data": {
      "text/html": [
       "<img src=\"https://www.sqlite.org/images/syntax/insert-stmt.gif\" width=\"300\" />\n"
      ],
      "text/plain": [
       "<IPython.core.display.HTML object>"
      ]
     },
     "metadata": {},
     "output_type": "display_data"
    }
   ],
   "source": [
    "%%HTML \n",
    "<img src=\"https://www.sqlite.org/images/syntax/insert-stmt.gif\" width=\"300\" />"
   ]
  },
  {
   "cell_type": "code",
   "execution_count": 25,
   "metadata": {},
   "outputs": [],
   "source": [
    "def add_one(ccode, yr, amt):\n",
    "    with DB(\"coffeeshops.db\") as db:\n",
    "        if check_tables(\"annual_profits\"):\n",
    "            db.curs.execute(\"INSERT INTO annual_profits  \"\n",
    "                            \"(ccode, year, amount) \"\n",
    "                            \"VALUES (?, ?, ?)\", \n",
    "                            (ccode, yr, amt))\n",
    "            db.conn.commit()\n",
    "            print(\"profit report added\")"
   ]
  },
  {
   "cell_type": "code",
   "execution_count": 26,
   "metadata": {},
   "outputs": [
    {
     "name": "stdout",
     "output_type": "stream",
     "text": [
      "profit report added\n",
      "profit report added\n",
      "profit report added\n",
      "profit report added\n",
      "profit report added\n",
      "profit report added\n",
      "profit report added\n"
     ]
    }
   ],
   "source": [
    "#profit_record = namedtuple(\"PR\", \n",
    "#                    \"ccode year curr\")\n",
    "\n",
    "for report in reports:\n",
    "    add_one(report.ccode, \n",
    "            report.year, \n",
    "            report.curr)"
   ]
  },
  {
   "cell_type": "markdown",
   "metadata": {},
   "source": [
    "```python\n",
    "pandas.read_sql(sql, con, index_col=None, coerce_float=True, params=None, parse_dates=None, columns=None, chunksize=None)\n",
    "```"
   ]
  },
  {
   "cell_type": "code",
   "execution_count": 27,
   "metadata": {},
   "outputs": [],
   "source": [
    "query = \"SELECT * FROM annual_profits\"\n",
    "with DB(\"coffeeshops.db\") as db:\n",
    "    df_profits = pd.read_sql(query, db.conn)"
   ]
  },
  {
   "cell_type": "code",
   "execution_count": 28,
   "metadata": {},
   "outputs": [
    {
     "data": {
      "text/html": [
       "<div>\n",
       "<style scoped>\n",
       "    .dataframe tbody tr th:only-of-type {\n",
       "        vertical-align: middle;\n",
       "    }\n",
       "\n",
       "    .dataframe tbody tr th {\n",
       "        vertical-align: top;\n",
       "    }\n",
       "\n",
       "    .dataframe thead th {\n",
       "        text-align: right;\n",
       "    }\n",
       "</style>\n",
       "<table border=\"1\" class=\"dataframe\">\n",
       "  <thead>\n",
       "    <tr style=\"text-align: right;\">\n",
       "      <th></th>\n",
       "      <th>ccode</th>\n",
       "      <th>year</th>\n",
       "      <th>amount</th>\n",
       "    </tr>\n",
       "  </thead>\n",
       "  <tbody>\n",
       "    <tr>\n",
       "      <th>0</th>\n",
       "      <td>DZX</td>\n",
       "      <td>2019</td>\n",
       "      <td>100000.0</td>\n",
       "    </tr>\n",
       "    <tr>\n",
       "      <th>1</th>\n",
       "      <td>FFC</td>\n",
       "      <td>2019</td>\n",
       "      <td>71400000.0</td>\n",
       "    </tr>\n",
       "    <tr>\n",
       "      <th>2</th>\n",
       "      <td>HHC</td>\n",
       "      <td>2019</td>\n",
       "      <td>1030000.0</td>\n",
       "    </tr>\n",
       "    <tr>\n",
       "      <th>3</th>\n",
       "      <td>FFC</td>\n",
       "      <td>2018</td>\n",
       "      <td>67200000.0</td>\n",
       "    </tr>\n",
       "    <tr>\n",
       "      <th>4</th>\n",
       "      <td>DZX</td>\n",
       "      <td>2018</td>\n",
       "      <td>102000.0</td>\n",
       "    </tr>\n",
       "    <tr>\n",
       "      <th>5</th>\n",
       "      <td>HHC</td>\n",
       "      <td>2018</td>\n",
       "      <td>990000.0</td>\n",
       "    </tr>\n",
       "    <tr>\n",
       "      <th>6</th>\n",
       "      <td>FFC</td>\n",
       "      <td>2017</td>\n",
       "      <td>9900.0</td>\n",
       "    </tr>\n",
       "  </tbody>\n",
       "</table>\n",
       "</div>"
      ],
      "text/plain": [
       "  ccode  year      amount\n",
       "0   DZX  2019    100000.0\n",
       "1   FFC  2019  71400000.0\n",
       "2   HHC  2019   1030000.0\n",
       "3   FFC  2018  67200000.0\n",
       "4   DZX  2018    102000.0\n",
       "5   HHC  2018    990000.0\n",
       "6   FFC  2017      9900.0"
      ]
     },
     "execution_count": 28,
     "metadata": {},
     "output_type": "execute_result"
    }
   ],
   "source": [
    "df_profits"
   ]
  },
  {
   "cell_type": "code",
   "execution_count": 34,
   "metadata": {},
   "outputs": [
    {
     "name": "stdout",
     "output_type": "stream",
     "text": [
      "Empty DataFrame\n",
      "Columns: [pcode, gcode, zcode, amnt, timestamp]\n",
      "Index: []\n",
      "Greetings Gus\n",
      "Game: Awesome Journey, code: ASM\n",
      "Thank you for playing Awesome Journey\n",
      "Action action, bling bling...\n",
      "Save the Bees gets 5.2\n",
      "Gus gives 5.2 to Save the Bees\n",
      "Greetings Keela\n",
      "Game: Treasure Hunt, code: TSH\n",
      "Thank you for playing Treasure Hunt\n",
      "Action action, bling bling...\n",
      "Save the Whales gets 9.09\n",
      "Keela gives 9.09 to Save the Whales\n",
      "\n",
      "        pcode gcode zcode  amnt                  timestamp\n",
      "0  62128be429   ASM   STB  5.20 2019-06-28 23:59:32.788592\n",
      "1  f9527247db   TSH   STW  9.09 2019-06-28 23:59:32.807610\n"
     ]
    }
   ],
   "source": [
    "import csn0\n",
    "csn0.data()\n",
    "csn0.causes  = csn0.make_causes()\n",
    "csn0.players = csn0.make_players()\n",
    "csn0.games   = csn0.make_games()\n",
    "print(csn0.hall_of_fame)\n",
    "csn0.simulation2()\n",
    "print()\n",
    "print(csn0.hall_of_fame)"
   ]
  },
  {
   "cell_type": "code",
   "execution_count": 35,
   "metadata": {},
   "outputs": [
    {
     "data": {
      "text/html": [
       "<div>\n",
       "<style scoped>\n",
       "    .dataframe tbody tr th:only-of-type {\n",
       "        vertical-align: middle;\n",
       "    }\n",
       "\n",
       "    .dataframe tbody tr th {\n",
       "        vertical-align: top;\n",
       "    }\n",
       "\n",
       "    .dataframe thead th {\n",
       "        text-align: right;\n",
       "    }\n",
       "</style>\n",
       "<table border=\"1\" class=\"dataframe\">\n",
       "  <thead>\n",
       "    <tr style=\"text-align: right;\">\n",
       "      <th></th>\n",
       "      <th>pcode</th>\n",
       "      <th>gcode</th>\n",
       "      <th>zcode</th>\n",
       "      <th>amnt</th>\n",
       "      <th>timestamp</th>\n",
       "    </tr>\n",
       "  </thead>\n",
       "  <tbody>\n",
       "    <tr>\n",
       "      <th>0</th>\n",
       "      <td>62128be429</td>\n",
       "      <td>ASM</td>\n",
       "      <td>STB</td>\n",
       "      <td>5.20</td>\n",
       "      <td>2019-06-28 23:59:32.788592</td>\n",
       "    </tr>\n",
       "    <tr>\n",
       "      <th>1</th>\n",
       "      <td>f9527247db</td>\n",
       "      <td>TSH</td>\n",
       "      <td>STW</td>\n",
       "      <td>9.09</td>\n",
       "      <td>2019-06-28 23:59:32.807610</td>\n",
       "    </tr>\n",
       "  </tbody>\n",
       "</table>\n",
       "</div>"
      ],
      "text/plain": [
       "        pcode gcode zcode  amnt                  timestamp\n",
       "0  62128be429   ASM   STB  5.20 2019-06-28 23:59:32.788592\n",
       "1  f9527247db   TSH   STW  9.09 2019-06-28 23:59:32.807610"
      ]
     },
     "execution_count": 35,
     "metadata": {},
     "output_type": "execute_result"
    }
   ],
   "source": [
    "csn0.hall_of_fame"
   ]
  },
  {
   "cell_type": "code",
   "execution_count": 31,
   "metadata": {},
   "outputs": [
    {
     "data": {
      "text/html": [
       "<div>\n",
       "<style scoped>\n",
       "    .dataframe tbody tr th:only-of-type {\n",
       "        vertical-align: middle;\n",
       "    }\n",
       "\n",
       "    .dataframe tbody tr th {\n",
       "        vertical-align: top;\n",
       "    }\n",
       "\n",
       "    .dataframe thead th {\n",
       "        text-align: right;\n",
       "    }\n",
       "</style>\n",
       "<table border=\"1\" class=\"dataframe\">\n",
       "  <thead>\n",
       "    <tr style=\"text-align: right;\">\n",
       "      <th></th>\n",
       "      <th>gcode</th>\n",
       "      <th>name</th>\n",
       "      <th>rating</th>\n",
       "      <th>audience</th>\n",
       "      <th>theme</th>\n",
       "    </tr>\n",
       "  </thead>\n",
       "  <tbody>\n",
       "    <tr>\n",
       "      <th>0</th>\n",
       "      <td>ASM</td>\n",
       "      <td>Awesome Journey</td>\n",
       "      <td>hard</td>\n",
       "      <td>teen</td>\n",
       "      <td>theme park</td>\n",
       "    </tr>\n",
       "    <tr>\n",
       "      <th>1</th>\n",
       "      <td>TSH</td>\n",
       "      <td>Treasure Hunt</td>\n",
       "      <td>hard</td>\n",
       "      <td>teen</td>\n",
       "      <td>VR</td>\n",
       "    </tr>\n",
       "    <tr>\n",
       "      <th>2</th>\n",
       "      <td>PPS</td>\n",
       "      <td>Pilgrims Progress</td>\n",
       "      <td>easy</td>\n",
       "      <td>all</td>\n",
       "      <td>epic</td>\n",
       "    </tr>\n",
       "    <tr>\n",
       "      <th>3</th>\n",
       "      <td>WRR</td>\n",
       "      <td>Writers Rock</td>\n",
       "      <td>medium</td>\n",
       "      <td>adult</td>\n",
       "      <td>quiz</td>\n",
       "    </tr>\n",
       "  </tbody>\n",
       "</table>\n",
       "</div>"
      ],
      "text/plain": [
       "  gcode               name  rating audience       theme\n",
       "0   ASM    Awesome Journey    hard     teen  theme park\n",
       "1   TSH      Treasure Hunt    hard     teen          VR\n",
       "2   PPS  Pilgrims Progress    easy      all        epic\n",
       "3   WRR       Writers Rock  medium    adult        quiz"
      ]
     },
     "execution_count": 31,
     "metadata": {},
     "output_type": "execute_result"
    }
   ],
   "source": [
    "csn0.games"
   ]
  },
  {
   "cell_type": "code",
   "execution_count": 32,
   "metadata": {},
   "outputs": [
    {
     "data": {
      "text/html": [
       "<div>\n",
       "<style scoped>\n",
       "    .dataframe tbody tr th:only-of-type {\n",
       "        vertical-align: middle;\n",
       "    }\n",
       "\n",
       "    .dataframe tbody tr th {\n",
       "        vertical-align: top;\n",
       "    }\n",
       "\n",
       "    .dataframe thead th {\n",
       "        text-align: right;\n",
       "    }\n",
       "</style>\n",
       "<table border=\"1\" class=\"dataframe\">\n",
       "  <thead>\n",
       "    <tr style=\"text-align: right;\">\n",
       "      <th></th>\n",
       "      <th>zcode</th>\n",
       "      <th>name</th>\n",
       "    </tr>\n",
       "  </thead>\n",
       "  <tbody>\n",
       "    <tr>\n",
       "      <th>0</th>\n",
       "      <td>STB</td>\n",
       "      <td>Save the Bees</td>\n",
       "    </tr>\n",
       "    <tr>\n",
       "      <th>1</th>\n",
       "      <td>STW</td>\n",
       "      <td>Save the Whales</td>\n",
       "    </tr>\n",
       "    <tr>\n",
       "      <th>2</th>\n",
       "      <td>STS</td>\n",
       "      <td>Save the Seas</td>\n",
       "    </tr>\n",
       "  </tbody>\n",
       "</table>\n",
       "</div>"
      ],
      "text/plain": [
       "  zcode             name\n",
       "0   STB    Save the Bees\n",
       "1   STW  Save the Whales\n",
       "2   STS    Save the Seas"
      ]
     },
     "execution_count": 32,
     "metadata": {},
     "output_type": "execute_result"
    }
   ],
   "source": [
    "csn0.causes"
   ]
  },
  {
   "cell_type": "code",
   "execution_count": 33,
   "metadata": {},
   "outputs": [
    {
     "data": {
      "text/html": [
       "<div>\n",
       "<style scoped>\n",
       "    .dataframe tbody tr th:only-of-type {\n",
       "        vertical-align: middle;\n",
       "    }\n",
       "\n",
       "    .dataframe tbody tr th {\n",
       "        vertical-align: top;\n",
       "    }\n",
       "\n",
       "    .dataframe thead th {\n",
       "        text-align: right;\n",
       "    }\n",
       "</style>\n",
       "<table border=\"1\" class=\"dataframe\">\n",
       "  <thead>\n",
       "    <tr style=\"text-align: right;\">\n",
       "      <th></th>\n",
       "      <th>pcode</th>\n",
       "      <th>name</th>\n",
       "      <th>aliases</th>\n",
       "      <th>profile</th>\n",
       "      <th>account</th>\n",
       "    </tr>\n",
       "  </thead>\n",
       "  <tbody>\n",
       "    <tr>\n",
       "      <th>0</th>\n",
       "      <td>62128be429</td>\n",
       "      <td>Gus</td>\n",
       "      <td>gustav, gus, the guster</td>\n",
       "      <td>id-12345</td>\n",
       "      <td>200</td>\n",
       "    </tr>\n",
       "    <tr>\n",
       "      <th>1</th>\n",
       "      <td>f9527247db</td>\n",
       "      <td>Keela</td>\n",
       "      <td>keesha, pandabear, sloth</td>\n",
       "      <td>id-54932</td>\n",
       "      <td>150</td>\n",
       "    </tr>\n",
       "    <tr>\n",
       "      <th>2</th>\n",
       "      <td>e7121e9ff0</td>\n",
       "      <td>Tor</td>\n",
       "      <td>torror, torus, the tor</td>\n",
       "      <td>id-94031</td>\n",
       "      <td>200</td>\n",
       "    </tr>\n",
       "    <tr>\n",
       "      <th>3</th>\n",
       "      <td>e8a2a91e04</td>\n",
       "      <td>Mitsu</td>\n",
       "      <td>bishi, sitcom, vagrant</td>\n",
       "      <td>id-88493</td>\n",
       "      <td>100</td>\n",
       "    </tr>\n",
       "  </tbody>\n",
       "</table>\n",
       "</div>"
      ],
      "text/plain": [
       "        pcode   name                   aliases   profile  account\n",
       "0  62128be429    Gus   gustav, gus, the guster  id-12345      200\n",
       "1  f9527247db  Keela  keesha, pandabear, sloth  id-54932      150\n",
       "2  e7121e9ff0    Tor    torror, torus, the tor  id-94031      200\n",
       "3  e8a2a91e04  Mitsu    bishi, sitcom, vagrant  id-88493      100"
      ]
     },
     "execution_count": 33,
     "metadata": {},
     "output_type": "execute_result"
    }
   ],
   "source": [
    "csn0.players"
   ]
  },
  {
   "cell_type": "markdown",
   "metadata": {},
   "source": [
    "# Charitable Giving\n",
    "\n",
    "What meritorious projects out there would you want to support.\n",
    "\n",
    "How would you go about finding out about some of them?"
   ]
  },
  {
   "cell_type": "code",
   "execution_count": 36,
   "metadata": {},
   "outputs": [
    {
     "data": {
      "image/jpeg": "[encoded data removed]",
      "text/html": [
       "\n",
       "        <iframe\n",
       "            width=\"400\"\n",
       "            height=\"300\"\n",
       "            src=\"https://www.youtube.com/embed/NZKUahBTBsI\"\n",
       "            frameborder=\"0\"\n",
       "            allowfullscreen\n",
       "        ></iframe>\n",
       "        "
      ],
      "text/plain": [
       "<IPython.lib.display.YouTubeVideo at 0x11a32f710>"
      ]
     },
     "execution_count": 36,
     "metadata": {},
     "output_type": "execute_result"
    }
   ],
   "source": [
    "from IPython.display import YouTubeVideo\n",
    "YouTubeVideo(\"NZKUahBTBsI\")"
   ]
  },
  {
   "cell_type": "code",
   "execution_count": null,
   "metadata": {},
   "outputs": [],
   "source": []
  }
 ],
 "metadata": {
  "kernelspec": {
   "display_name": "Python 3",
   "language": "python",
   "name": "python3"
  },
  "language_info": {
   "codemirror_mode": {
    "name": "ipython",
    "version": 3
   },
   "file_extension": ".py",
   "mimetype": "text/x-python",
   "name": "python",
   "nbconvert_exporter": "python",
   "pygments_lexer": "ipython3",
   "version": "3.6.8"
  }
 },
 "nbformat": 4,
 "nbformat_minor": 2
}
